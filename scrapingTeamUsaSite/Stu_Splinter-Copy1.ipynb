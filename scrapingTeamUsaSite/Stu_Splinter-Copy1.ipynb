{
 "cells": [
  {
   "cell_type": "code",
   "execution_count": 1,
   "metadata": {},
   "outputs": [
    {
     "data": {
      "application/javascript": [
       "\n",
       "            setTimeout(function() {\n",
       "                var nbb_cell_id = 1;\n",
       "                var nbb_unformatted_code = \"from splinter import Browser\\nfrom bs4 import BeautifulSoup\\nimport pandas as pd\\nimport numpy as np\\nimport matplotlib\\nimport seaborn as sns\\nimport matplotlib.pyplot as plt\\nimport requests\\nfrom zipfile import ZipFile\\nimport io\\nimport random\\n\\n%load_ext nb_black\\n%matplotlib inline\\nmatplotlib.style.use(\\\"ggplot\\\")\";\n",
       "                var nbb_formatted_code = \"from splinter import Browser\\nfrom bs4 import BeautifulSoup\\nimport pandas as pd\\nimport numpy as np\\nimport matplotlib\\nimport seaborn as sns\\nimport matplotlib.pyplot as plt\\nimport requests\\nfrom zipfile import ZipFile\\nimport io\\nimport random\\n\\n%load_ext nb_black\\n%matplotlib inline\\nmatplotlib.style.use(\\\"ggplot\\\")\";\n",
       "                var nbb_cells = Jupyter.notebook.get_cells();\n",
       "                for (var i = 0; i < nbb_cells.length; ++i) {\n",
       "                    if (nbb_cells[i].input_prompt_number == nbb_cell_id) {\n",
       "                        if (nbb_cells[i].get_text() == nbb_unformatted_code) {\n",
       "                             nbb_cells[i].set_text(nbb_formatted_code);\n",
       "                        }\n",
       "                        break;\n",
       "                    }\n",
       "                }\n",
       "            }, 500);\n",
       "            "
      ],
      "text/plain": [
       "<IPython.core.display.Javascript object>"
      ]
     },
     "metadata": {},
     "output_type": "display_data"
    }
   ],
   "source": [
    "from splinter import Browser\n",
    "from bs4 import BeautifulSoup\n",
    "import pandas as pd\n",
    "import numpy as np\n",
    "import matplotlib\n",
    "import seaborn as sns\n",
    "import matplotlib.pyplot as plt\n",
    "import requests\n",
    "from zipfile import ZipFile\n",
    "import io\n",
    "import random\n",
    "\n",
    "%load_ext nb_black\n",
    "%matplotlib inline\n",
    "matplotlib.style.use(\"ggplot\")"
   ]
  },
  {
   "cell_type": "code",
   "execution_count": null,
   "metadata": {},
   "outputs": [],
   "source": [
    "random.seed()"
   ]
  },
  {
   "cell_type": "code",
   "execution_count": null,
   "metadata": {},
   "outputs": [],
   "source": [
    "nums = random.sample(range(99999999), k=999)"
   ]
  },
  {
   "cell_type": "code",
   "execution_count": 2,
   "metadata": {},
   "outputs": [
    {
     "data": {
      "application/javascript": [
       "\n",
       "            setTimeout(function() {\n",
       "                var nbb_cell_id = 2;\n",
       "                var nbb_unformatted_code = \"preURL = \\\"https://rankings.usatriathlon.org/\\\"\";\n",
       "                var nbb_formatted_code = \"preURL = \\\"https://rankings.usatriathlon.org/\\\"\";\n",
       "                var nbb_cells = Jupyter.notebook.get_cells();\n",
       "                for (var i = 0; i < nbb_cells.length; ++i) {\n",
       "                    if (nbb_cells[i].input_prompt_number == nbb_cell_id) {\n",
       "                        if (nbb_cells[i].get_text() == nbb_unformatted_code) {\n",
       "                             nbb_cells[i].set_text(nbb_formatted_code);\n",
       "                        }\n",
       "                        break;\n",
       "                    }\n",
       "                }\n",
       "            }, 500);\n",
       "            "
      ],
      "text/plain": [
       "<IPython.core.display.Javascript object>"
      ]
     },
     "metadata": {},
     "output_type": "display_data"
    }
   ],
   "source": [
    "preURL = \"https://rankings.usatriathlon.org/\""
   ]
  },
  {
   "cell_type": "code",
   "execution_count": 13,
   "metadata": {},
   "outputs": [
    {
     "data": {
      "application/javascript": [
       "\n",
       "            setTimeout(function() {\n",
       "                var nbb_cell_id = 13;\n",
       "                var nbb_unformatted_code = \"browser.quit()\";\n",
       "                var nbb_formatted_code = \"browser.quit()\";\n",
       "                var nbb_cells = Jupyter.notebook.get_cells();\n",
       "                for (var i = 0; i < nbb_cells.length; ++i) {\n",
       "                    if (nbb_cells[i].input_prompt_number == nbb_cell_id) {\n",
       "                        if (nbb_cells[i].get_text() == nbb_unformatted_code) {\n",
       "                             nbb_cells[i].set_text(nbb_formatted_code);\n",
       "                        }\n",
       "                        break;\n",
       "                    }\n",
       "                }\n",
       "            }, 500);\n",
       "            "
      ],
      "text/plain": [
       "<IPython.core.display.Javascript object>"
      ]
     },
     "metadata": {},
     "output_type": "display_data"
    }
   ],
   "source": [
    "browser.quit()"
   ]
  },
  {
   "cell_type": "code",
   "execution_count": 14,
   "metadata": {},
   "outputs": [
    {
     "data": {
      "application/javascript": [
       "\n",
       "            setTimeout(function() {\n",
       "                var nbb_cell_id = 14;\n",
       "                var nbb_unformatted_code = \"executable_path = {\\n    \\\"executable_path\\\": \\\"C:/Users/Jack/Downloads/Programs/chromedriver_win32/chromedriver.exe\\\"\\n}\\nbrowser = Browser(\\\"chrome\\\", **executable_path, headless=False)\";\n",
       "                var nbb_formatted_code = \"executable_path = {\\n    \\\"executable_path\\\": \\\"C:/Users/Jack/Downloads/Programs/chromedriver_win32/chromedriver.exe\\\"\\n}\\nbrowser = Browser(\\\"chrome\\\", **executable_path, headless=False)\";\n",
       "                var nbb_cells = Jupyter.notebook.get_cells();\n",
       "                for (var i = 0; i < nbb_cells.length; ++i) {\n",
       "                    if (nbb_cells[i].input_prompt_number == nbb_cell_id) {\n",
       "                        if (nbb_cells[i].get_text() == nbb_unformatted_code) {\n",
       "                             nbb_cells[i].set_text(nbb_formatted_code);\n",
       "                        }\n",
       "                        break;\n",
       "                    }\n",
       "                }\n",
       "            }, 500);\n",
       "            "
      ],
      "text/plain": [
       "<IPython.core.display.Javascript object>"
      ]
     },
     "metadata": {},
     "output_type": "display_data"
    }
   ],
   "source": [
    "executable_path = {\n",
    "    \"executable_path\": \"C:/Users/Jack/Downloads/Programs/chromedriver_win32/chromedriver.exe\"\n",
    "}\n",
    "browser = Browser(\"chrome\", **executable_path, headless=False)"
   ]
  },
  {
   "cell_type": "code",
   "execution_count": null,
   "metadata": {},
   "outputs": [],
   "source": [
    "url = \"https://rankings.usatriathlon.org/Event/ViewEvent/301770/1\"\n",
    "browser.visit(url)"
   ]
  },
  {
   "cell_type": "code",
   "execution_count": null,
   "metadata": {},
   "outputs": [],
   "source": [
    "print(\n",
    "    f\"{preURL}{postURLs[i]}\"\n",
    "    == \"https://rankings.usatriathlon.org//Event/ViewEvent/301770/1\"\n",
    ")"
   ]
  },
  {
   "cell_type": "code",
   "execution_count": null,
   "metadata": {},
   "outputs": [],
   "source": [
    "i = 0"
   ]
  },
  {
   "cell_type": "code",
   "execution_count": 46,
   "metadata": {},
   "outputs": [
    {
     "data": {
      "application/javascript": [
       "\n",
       "            setTimeout(function() {\n",
       "                var nbb_cell_id = 46;\n",
       "                var nbb_unformatted_code = \"dfs = []\\ni = 0\\n\\n\\ndef makeDF():\\n    try:\\n        i = 0\\n        executable_path = {\\n            \\\"executable_path\\\": \\\"C:/Users/Jack/Downloads/Programs/chromedriver_win32/chromedriver.exe\\\"\\n        }\\n        browser = Browser(\\\"chrome\\\", **executable_path, headless=False)\\n        url = f\\\"{preURL}{postURLs[i]}\\\"\\n        browser.visit(url)\\n        html = browser.html\\n        soup = BeautifulSoup(html, \\\"html.parser\\\")\\n\\n        data = soup.find(id=\\\"contentJsonResultsGrid\\\").find_all(\\\"div\\\")\\n        data4Real = soup.find_all(attrs={\\\"role\\\": \\\"gridcell\\\"})\\n        count = 0\\n        fullTable = []\\n        currow = []\\n        data0 = soup.find_all(id=\\\"EventName\\\")\\n#         name = data0[0].text.split(\\\"\\\\n\\\")[1].strip()\\n#         names = []\\n#         names.append(name)\\n        for cell in data4Real:\\n            text = cell.find(\\\"div\\\").text\\n            currow.append(text)\\n            count += 1\\n            if count == 9:\\n                fullTable.append(currow)\\n                currow = []\\n                count = 0\\n        df = pd.DataFrame(fullTable)\\n#         df[\\\"names\\\"] = names\\n        dfs.append(df)\\n        i += 1\\n    except Exception as e:\\n        x = 0\\n\\n\\nfor postURL in postURLs:\\n    makeDF()\";\n",
       "                var nbb_formatted_code = \"dfs = []\\ni = 0\\n\\n\\ndef makeDF():\\n    try:\\n        i = 0\\n        executable_path = {\\n            \\\"executable_path\\\": \\\"C:/Users/Jack/Downloads/Programs/chromedriver_win32/chromedriver.exe\\\"\\n        }\\n        browser = Browser(\\\"chrome\\\", **executable_path, headless=False)\\n        url = f\\\"{preURL}{postURLs[i]}\\\"\\n        browser.visit(url)\\n        html = browser.html\\n        soup = BeautifulSoup(html, \\\"html.parser\\\")\\n\\n        data = soup.find(id=\\\"contentJsonResultsGrid\\\").find_all(\\\"div\\\")\\n        data4Real = soup.find_all(attrs={\\\"role\\\": \\\"gridcell\\\"})\\n        count = 0\\n        fullTable = []\\n        currow = []\\n        data0 = soup.find_all(id=\\\"EventName\\\")\\n        #         name = data0[0].text.split(\\\"\\\\n\\\")[1].strip()\\n        #         names = []\\n        #         names.append(name)\\n        for cell in data4Real:\\n            text = cell.find(\\\"div\\\").text\\n            currow.append(text)\\n            count += 1\\n            if count == 9:\\n                fullTable.append(currow)\\n                currow = []\\n                count = 0\\n        df = pd.DataFrame(fullTable)\\n        #         df[\\\"names\\\"] = names\\n        dfs.append(df)\\n        i += 1\\n    except Exception as e:\\n        x = 0\\n\\n\\nfor postURL in postURLs:\\n    makeDF()\";\n",
       "                var nbb_cells = Jupyter.notebook.get_cells();\n",
       "                for (var i = 0; i < nbb_cells.length; ++i) {\n",
       "                    if (nbb_cells[i].input_prompt_number == nbb_cell_id) {\n",
       "                        if (nbb_cells[i].get_text() == nbb_unformatted_code) {\n",
       "                             nbb_cells[i].set_text(nbb_formatted_code);\n",
       "                        }\n",
       "                        break;\n",
       "                    }\n",
       "                }\n",
       "            }, 500);\n",
       "            "
      ],
      "text/plain": [
       "<IPython.core.display.Javascript object>"
      ]
     },
     "metadata": {},
     "output_type": "display_data"
    }
   ],
   "source": [
    "dfs = []\n",
    "i = 0\n",
    "\n",
    "\n",
    "def makeDF():\n",
    "    try:\n",
    "        i = 0\n",
    "        executable_path = {\n",
    "            \"executable_path\": \"C:/Users/Jack/Downloads/Programs/chromedriver_win32/chromedriver.exe\"\n",
    "        }\n",
    "        browser = Browser(\"chrome\", **executable_path, headless=False)\n",
    "        url = f\"{preURL}{postURLs[i]}\"\n",
    "        browser.visit(url)\n",
    "        html = browser.html\n",
    "        soup = BeautifulSoup(html, \"html.parser\")\n",
    "\n",
    "        data = soup.find(id=\"contentJsonResultsGrid\").find_all(\"div\")\n",
    "        data4Real = soup.find_all(attrs={\"role\": \"gridcell\"})\n",
    "        count = 0\n",
    "        fullTable = []\n",
    "        currow = []\n",
    "        data0 = soup.find_all(id=\"EventName\")\n",
    "        #         name = data0[0].text.split(\"\\n\")[1].strip()\n",
    "        #         names = []\n",
    "        #         names.append(name)\n",
    "        for cell in data4Real:\n",
    "            text = cell.find(\"div\").text\n",
    "            currow.append(text)\n",
    "            count += 1\n",
    "            if count == 9:\n",
    "                fullTable.append(currow)\n",
    "                currow = []\n",
    "                count = 0\n",
    "        df = pd.DataFrame(fullTable)\n",
    "        #         df[\"names\"] = names\n",
    "        dfs.append(df)\n",
    "        i += 1\n",
    "    except Exception as e:\n",
    "        x = 0\n",
    "\n",
    "\n",
    "for postURL in postURLs:\n",
    "    makeDF()"
   ]
  },
  {
   "cell_type": "code",
   "execution_count": 22,
   "metadata": {},
   "outputs": [
    {
     "data": {
      "application/javascript": [
       "\n",
       "            setTimeout(function() {\n",
       "                var nbb_cell_id = 22;\n",
       "                var nbb_unformatted_code = \"browser.quit()\";\n",
       "                var nbb_formatted_code = \"browser.quit()\";\n",
       "                var nbb_cells = Jupyter.notebook.get_cells();\n",
       "                for (var i = 0; i < nbb_cells.length; ++i) {\n",
       "                    if (nbb_cells[i].input_prompt_number == nbb_cell_id) {\n",
       "                        if (nbb_cells[i].get_text() == nbb_unformatted_code) {\n",
       "                             nbb_cells[i].set_text(nbb_formatted_code);\n",
       "                        }\n",
       "                        break;\n",
       "                    }\n",
       "                }\n",
       "            }, 500);\n",
       "            "
      ],
      "text/plain": [
       "<IPython.core.display.Javascript object>"
      ]
     },
     "metadata": {},
     "output_type": "display_data"
    }
   ],
   "source": []
  },
  {
   "cell_type": "code",
   "execution_count": 23,
   "metadata": {},
   "outputs": [
    {
     "data": {
      "application/javascript": [
       "\n",
       "            setTimeout(function() {\n",
       "                var nbb_cell_id = 23;\n",
       "                var nbb_unformatted_code = \"browser = Browser(\\\"chrome\\\", **executable_path, headless=False)\\nurl = f\\\"https://rankings.usatriathlon.org/Event/ViewEvent/301770/1\\\"\\nbrowser.visit(url)\";\n",
       "                var nbb_formatted_code = \"browser = Browser(\\\"chrome\\\", **executable_path, headless=False)\\nurl = f\\\"https://rankings.usatriathlon.org/Event/ViewEvent/301770/1\\\"\\nbrowser.visit(url)\";\n",
       "                var nbb_cells = Jupyter.notebook.get_cells();\n",
       "                for (var i = 0; i < nbb_cells.length; ++i) {\n",
       "                    if (nbb_cells[i].input_prompt_number == nbb_cell_id) {\n",
       "                        if (nbb_cells[i].get_text() == nbb_unformatted_code) {\n",
       "                             nbb_cells[i].set_text(nbb_formatted_code);\n",
       "                        }\n",
       "                        break;\n",
       "                    }\n",
       "                }\n",
       "            }, 500);\n",
       "            "
      ],
      "text/plain": [
       "<IPython.core.display.Javascript object>"
      ]
     },
     "metadata": {},
     "output_type": "display_data"
    }
   ],
   "source": [
    "browser = Browser(\"chrome\", **executable_path, headless=False)\n",
    "url = f\"https://rankings.usatriathlon.org/Event/ViewEvent/301770/1\"\n",
    "browser.visit(url)"
   ]
  },
  {
   "cell_type": "code",
   "execution_count": 26,
   "metadata": {},
   "outputs": [
    {
     "data": {
      "application/javascript": [
       "\n",
       "            setTimeout(function() {\n",
       "                var nbb_cell_id = 26;\n",
       "                var nbb_unformatted_code = \"html = browser.html\\nsoup = BeautifulSoup(html, \\\"html.parser\\\")\\n\\ndata = soup.find_all(id=\\\"EventName\\\")\";\n",
       "                var nbb_formatted_code = \"html = browser.html\\nsoup = BeautifulSoup(html, \\\"html.parser\\\")\\n\\ndata = soup.find_all(id=\\\"EventName\\\")\";\n",
       "                var nbb_cells = Jupyter.notebook.get_cells();\n",
       "                for (var i = 0; i < nbb_cells.length; ++i) {\n",
       "                    if (nbb_cells[i].input_prompt_number == nbb_cell_id) {\n",
       "                        if (nbb_cells[i].get_text() == nbb_unformatted_code) {\n",
       "                             nbb_cells[i].set_text(nbb_formatted_code);\n",
       "                        }\n",
       "                        break;\n",
       "                    }\n",
       "                }\n",
       "            }, 500);\n",
       "            "
      ],
      "text/plain": [
       "<IPython.core.display.Javascript object>"
      ]
     },
     "metadata": {},
     "output_type": "display_data"
    }
   ],
   "source": [
    "html = browser.html\n",
    "soup = BeautifulSoup(html, \"html.parser\")\n",
    "\n",
    "data = soup.find_all(id=\"EventName\")"
   ]
  },
  {
   "cell_type": "code",
   "execution_count": 38,
   "metadata": {},
   "outputs": [
    {
     "data": {
      "text/plain": [
       "'Bartow Blarney Triathlon'"
      ]
     },
     "execution_count": 38,
     "metadata": {},
     "output_type": "execute_result"
    },
    {
     "data": {
      "application/javascript": [
       "\n",
       "            setTimeout(function() {\n",
       "                var nbb_cell_id = 38;\n",
       "                var nbb_unformatted_code = \"data[0].text.split(\\\"\\\\n\\\")[1].strip()\";\n",
       "                var nbb_formatted_code = \"data[0].text.split(\\\"\\\\n\\\")[1].strip()\";\n",
       "                var nbb_cells = Jupyter.notebook.get_cells();\n",
       "                for (var i = 0; i < nbb_cells.length; ++i) {\n",
       "                    if (nbb_cells[i].input_prompt_number == nbb_cell_id) {\n",
       "                        if (nbb_cells[i].get_text() == nbb_unformatted_code) {\n",
       "                             nbb_cells[i].set_text(nbb_formatted_code);\n",
       "                        }\n",
       "                        break;\n",
       "                    }\n",
       "                }\n",
       "            }, 500);\n",
       "            "
      ],
      "text/plain": [
       "<IPython.core.display.Javascript object>"
      ]
     },
     "metadata": {},
     "output_type": "display_data"
    }
   ],
   "source": [
    "data[0].text.split(\"\\n\")[1].strip()"
   ]
  },
  {
   "cell_type": "code",
   "execution_count": 45,
   "metadata": {},
   "outputs": [
    {
     "data": {
      "text/plain": [
       "0"
      ]
     },
     "execution_count": 45,
     "metadata": {},
     "output_type": "execute_result"
    },
    {
     "data": {
      "application/javascript": [
       "\n",
       "            setTimeout(function() {\n",
       "                var nbb_cell_id = 45;\n",
       "                var nbb_unformatted_code = \"len(dfs)\";\n",
       "                var nbb_formatted_code = \"len(dfs)\";\n",
       "                var nbb_cells = Jupyter.notebook.get_cells();\n",
       "                for (var i = 0; i < nbb_cells.length; ++i) {\n",
       "                    if (nbb_cells[i].input_prompt_number == nbb_cell_id) {\n",
       "                        if (nbb_cells[i].get_text() == nbb_unformatted_code) {\n",
       "                             nbb_cells[i].set_text(nbb_formatted_code);\n",
       "                        }\n",
       "                        break;\n",
       "                    }\n",
       "                }\n",
       "            }, 500);\n",
       "            "
      ],
      "text/plain": [
       "<IPython.core.display.Javascript object>"
      ]
     },
     "metadata": {},
     "output_type": "display_data"
    }
   ],
   "source": [
    "len(dfs)"
   ]
  },
  {
   "cell_type": "code",
   "execution_count": null,
   "metadata": {},
   "outputs": [],
   "source": [
    "soup = BeautifulSoup(html, \"html.parser\")"
   ]
  },
  {
   "cell_type": "code",
   "execution_count": null,
   "metadata": {},
   "outputs": [],
   "source": []
  },
  {
   "cell_type": "code",
   "execution_count": null,
   "metadata": {},
   "outputs": [],
   "source": []
  },
  {
   "cell_type": "code",
   "execution_count": null,
   "metadata": {},
   "outputs": [],
   "source": []
  },
  {
   "cell_type": "code",
   "execution_count": null,
   "metadata": {},
   "outputs": [],
   "source": [
    "data = soup.find(id=\"contentJsonResultsGrid\").find_all(\"div\")"
   ]
  },
  {
   "cell_type": "code",
   "execution_count": null,
   "metadata": {},
   "outputs": [],
   "source": [
    "data4Real = soup.find_all(attrs={\"role\": \"gridcell\"})\n"
   ]
  },
  {
   "cell_type": "code",
   "execution_count": null,
   "metadata": {},
   "outputs": [],
   "source": [
    "count = 0\n",
    "fullTable = []\n",
    "currow = []\n",
    "for cell in data4Fake:\n",
    "    text = cell.find(\"div\").text\n",
    "    currow.append(text)\n",
    "    count += 1\n",
    "    if count == 9:\n",
    "        fullTable.append(currow)\n",
    "        currow = []\n",
    "        count = 0"
   ]
  },
  {
   "cell_type": "code",
   "execution_count": null,
   "metadata": {},
   "outputs": [],
   "source": [
    "df = pd.DataFrame(fullTable)\n",
    "df.head()"
   ]
  },
  {
   "cell_type": "code",
   "execution_count": null,
   "metadata": {},
   "outputs": [],
   "source": []
  },
  {
   "cell_type": "code",
   "execution_count": null,
   "metadata": {},
   "outputs": [],
   "source": [
    "browser.quit()"
   ]
  },
  {
   "cell_type": "code",
   "execution_count": null,
   "metadata": {},
   "outputs": [],
   "source": [
    "executable_path = {\n",
    "    \"executable_path\": \"C:/Users/Jack/Downloads/Programs/chromedriver_win32/chromedriver.exe\"\n",
    "}\n",
    "browser = Browser(\"chrome\", **executable_path, headless=False)"
   ]
  },
  {
   "cell_type": "code",
   "execution_count": 4,
   "metadata": {},
   "outputs": [
    {
     "data": {
      "application/javascript": [
       "\n",
       "            setTimeout(function() {\n",
       "                var nbb_cell_id = 4;\n",
       "                var nbb_unformatted_code = \"url = \\\"https://rankings.usatriathlon.org/Event/Events\\\"\\nbrowser.visit(url)\";\n",
       "                var nbb_formatted_code = \"url = \\\"https://rankings.usatriathlon.org/Event/Events\\\"\\nbrowser.visit(url)\";\n",
       "                var nbb_cells = Jupyter.notebook.get_cells();\n",
       "                for (var i = 0; i < nbb_cells.length; ++i) {\n",
       "                    if (nbb_cells[i].input_prompt_number == nbb_cell_id) {\n",
       "                        if (nbb_cells[i].get_text() == nbb_unformatted_code) {\n",
       "                             nbb_cells[i].set_text(nbb_formatted_code);\n",
       "                        }\n",
       "                        break;\n",
       "                    }\n",
       "                }\n",
       "            }, 500);\n",
       "            "
      ],
      "text/plain": [
       "<IPython.core.display.Javascript object>"
      ]
     },
     "metadata": {},
     "output_type": "display_data"
    }
   ],
   "source": [
    "url = \"https://rankings.usatriathlon.org/Event/Events\"\n",
    "browser.visit(url)"
   ]
  },
  {
   "cell_type": "code",
   "execution_count": null,
   "metadata": {},
   "outputs": [],
   "source": []
  },
  {
   "cell_type": "code",
   "execution_count": 5,
   "metadata": {},
   "outputs": [
    {
     "data": {
      "application/javascript": [
       "\n",
       "            setTimeout(function() {\n",
       "                var nbb_cell_id = 5;\n",
       "                var nbb_unformatted_code = \"html = browser.html\";\n",
       "                var nbb_formatted_code = \"html = browser.html\";\n",
       "                var nbb_cells = Jupyter.notebook.get_cells();\n",
       "                for (var i = 0; i < nbb_cells.length; ++i) {\n",
       "                    if (nbb_cells[i].input_prompt_number == nbb_cell_id) {\n",
       "                        if (nbb_cells[i].get_text() == nbb_unformatted_code) {\n",
       "                             nbb_cells[i].set_text(nbb_formatted_code);\n",
       "                        }\n",
       "                        break;\n",
       "                    }\n",
       "                }\n",
       "            }, 500);\n",
       "            "
      ],
      "text/plain": [
       "<IPython.core.display.Javascript object>"
      ]
     },
     "metadata": {},
     "output_type": "display_data"
    }
   ],
   "source": [
    "html = browser.html"
   ]
  },
  {
   "cell_type": "code",
   "execution_count": null,
   "metadata": {},
   "outputs": [],
   "source": []
  },
  {
   "cell_type": "code",
   "execution_count": 6,
   "metadata": {},
   "outputs": [
    {
     "data": {
      "application/javascript": [
       "\n",
       "            setTimeout(function() {\n",
       "                var nbb_cell_id = 6;\n",
       "                var nbb_unformatted_code = \"soup = BeautifulSoup(html, \\\"html.parser\\\")\";\n",
       "                var nbb_formatted_code = \"soup = BeautifulSoup(html, \\\"html.parser\\\")\";\n",
       "                var nbb_cells = Jupyter.notebook.get_cells();\n",
       "                for (var i = 0; i < nbb_cells.length; ++i) {\n",
       "                    if (nbb_cells[i].input_prompt_number == nbb_cell_id) {\n",
       "                        if (nbb_cells[i].get_text() == nbb_unformatted_code) {\n",
       "                             nbb_cells[i].set_text(nbb_formatted_code);\n",
       "                        }\n",
       "                        break;\n",
       "                    }\n",
       "                }\n",
       "            }, 500);\n",
       "            "
      ],
      "text/plain": [
       "<IPython.core.display.Javascript object>"
      ]
     },
     "metadata": {},
     "output_type": "display_data"
    }
   ],
   "source": [
    "soup = BeautifulSoup(html, \"html.parser\")"
   ]
  },
  {
   "cell_type": "code",
   "execution_count": null,
   "metadata": {},
   "outputs": [],
   "source": []
  },
  {
   "cell_type": "code",
   "execution_count": 7,
   "metadata": {},
   "outputs": [
    {
     "name": "stdout",
     "output_type": "stream",
     "text": [
      "['http://usatriathlon.org', '/Event/Events', '/Rankings/NationalRankings', '/RaceResult/AthleteResults', '/Event/ViewEvent/301770/1', '/Event/ViewEvent/303209/1', '/Event/ViewEvent/303415/1', '/Event/ViewEvent/302704/1', '/Event/ViewEvent/301420/1', '/Event/ViewEvent/301685/1', '/Event/ViewEvent/302355/1', '/Event/ViewEvent/303518/1', '/Event/ViewEvent/302618/1', '/Event/ViewEvent/302712/1', '/Event/ViewEvent/301919/1', '/Event/ViewEvent/302721/1', '/Event/ViewEvent/302999/1', '/Event/ViewEvent/303130/1', '/Event/ViewEvent/302171/1', '/Event/ViewEvent/302208/1', '/Event/ViewEvent/301534/1', '/Event/ViewEvent/303214/1', '/Event/ViewEvent/303075/1', '/Event/ViewEvent/300968/1', 'https://www.teamusa.org/usa-triathlon/about/usat/corporate-partners', 'https://www.teamusa.org/USA-Triathlon/About/Multisport/Multisport-Zone/Subscribe', 'https://www.teamusa.org/usa-triathlon/events/usat-events-calendar', 'https://www.teamusa.org/usa-triathlon/about/usat/magazine', 'https://www.teamusa.org/usa-triathlon/news/for-media', 'http://www.facebook.com/USATriathlon', 'http://www.youtube.com/results?search_query=usa+triathlon', 'http://twitter.com/#!/usatriathlon', 'http://www.teamusa.org/', 'http://usparalympics.org/', 'http://www.triathlon.org/', 'http://usatriathlon.org/about-usat/privacy-policy.aspx', 'https://www.teamusa.org/usa-triathlon/membership-services/contact-us', 'https://www.teamusa.org/usa-triathlon/about/usat/employment', 'https://membership.usatriathlon.org/Public/Contact/Directory']\n"
     ]
    },
    {
     "data": {
      "application/javascript": [
       "\n",
       "            setTimeout(function() {\n",
       "                var nbb_cell_id = 7;\n",
       "                var nbb_unformatted_code = \"a = soup.find_all(\\\"a\\\")\\n# for i in a:\\n#     try:\\n\\n#         a.[\\\"href\\\"]\\n#     except Exception as e:\\n#         print(e)\\n\\n\\nlink_list = []\\nfor anchor in a:\\n    links = anchor[\\\"href\\\"]\\n    link_list.append(links)\\nprint(link_list)\";\n",
       "                var nbb_formatted_code = \"a = soup.find_all(\\\"a\\\")\\n# for i in a:\\n#     try:\\n\\n#         a.[\\\"href\\\"]\\n#     except Exception as e:\\n#         print(e)\\n\\n\\nlink_list = []\\nfor anchor in a:\\n    links = anchor[\\\"href\\\"]\\n    link_list.append(links)\\nprint(link_list)\";\n",
       "                var nbb_cells = Jupyter.notebook.get_cells();\n",
       "                for (var i = 0; i < nbb_cells.length; ++i) {\n",
       "                    if (nbb_cells[i].input_prompt_number == nbb_cell_id) {\n",
       "                        if (nbb_cells[i].get_text() == nbb_unformatted_code) {\n",
       "                             nbb_cells[i].set_text(nbb_formatted_code);\n",
       "                        }\n",
       "                        break;\n",
       "                    }\n",
       "                }\n",
       "            }, 500);\n",
       "            "
      ],
      "text/plain": [
       "<IPython.core.display.Javascript object>"
      ]
     },
     "metadata": {},
     "output_type": "display_data"
    }
   ],
   "source": [
    "a = soup.find_all(\"a\")\n",
    "# for i in a:\n",
    "#     try:\n",
    "\n",
    "#         a.[\"href\"]\n",
    "#     except Exception as e:\n",
    "#         print(e)\n",
    "\n",
    "\n",
    "link_list = []\n",
    "for anchor in a:\n",
    "    links = anchor[\"href\"]\n",
    "    link_list.append(links)\n",
    "print(link_list)\n"
   ]
  },
  {
   "cell_type": "code",
   "execution_count": 8,
   "metadata": {},
   "outputs": [
    {
     "data": {
      "application/javascript": [
       "\n",
       "            setTimeout(function() {\n",
       "                var nbb_cell_id = 8;\n",
       "                var nbb_unformatted_code = \"# initializing substring\\nsubs = \\\"ViewEvent\\\"\\n\\n# using list comprehension\\n# to get string with substring\\npostURLs = [i for i in link_list if subs in i]\";\n",
       "                var nbb_formatted_code = \"# initializing substring\\nsubs = \\\"ViewEvent\\\"\\n\\n# using list comprehension\\n# to get string with substring\\npostURLs = [i for i in link_list if subs in i]\";\n",
       "                var nbb_cells = Jupyter.notebook.get_cells();\n",
       "                for (var i = 0; i < nbb_cells.length; ++i) {\n",
       "                    if (nbb_cells[i].input_prompt_number == nbb_cell_id) {\n",
       "                        if (nbb_cells[i].get_text() == nbb_unformatted_code) {\n",
       "                             nbb_cells[i].set_text(nbb_formatted_code);\n",
       "                        }\n",
       "                        break;\n",
       "                    }\n",
       "                }\n",
       "            }, 500);\n",
       "            "
      ],
      "text/plain": [
       "<IPython.core.display.Javascript object>"
      ]
     },
     "metadata": {},
     "output_type": "display_data"
    }
   ],
   "source": [
    "# initializing substring\n",
    "subs = \"ViewEvent\"\n",
    "\n",
    "# using list comprehension\n",
    "# to get string with substring\n",
    "postURLs = [i for i in link_list if subs in i]\n",
    "\n"
   ]
  },
  {
   "cell_type": "code",
   "execution_count": null,
   "metadata": {},
   "outputs": [],
   "source": [
    "data = soup.find(id=\"contentJsonResultsGrid\").find_all(\"div\")"
   ]
  },
  {
   "cell_type": "code",
   "execution_count": null,
   "metadata": {},
   "outputs": [],
   "source": [
    "data4Real = soup.find_all(attrs={\"role\": \"gridcell\"})\n"
   ]
  },
  {
   "cell_type": "code",
   "execution_count": null,
   "metadata": {},
   "outputs": [],
   "source": [
    "count = 0\n",
    "fullTable = []\n",
    "currow = []\n",
    "for cell in data4Fake:\n",
    "    text = cell.find(\"div\").text\n",
    "    currow.append(text)\n",
    "    count += 1\n",
    "    if count == 9:\n",
    "        fullTable.append(currow)\n",
    "        currow = []\n",
    "        count = 0"
   ]
  },
  {
   "cell_type": "code",
   "execution_count": null,
   "metadata": {},
   "outputs": [],
   "source": [
    "df = pd.DataFrame(fullTable)\n",
    "df.head()"
   ]
  },
  {
   "cell_type": "code",
   "execution_count": null,
   "metadata": {},
   "outputs": [],
   "source": [
    "html = browser.html"
   ]
  },
  {
   "cell_type": "code",
   "execution_count": null,
   "metadata": {},
   "outputs": [],
   "source": []
  },
  {
   "cell_type": "code",
   "execution_count": null,
   "metadata": {},
   "outputs": [],
   "source": []
  }
 ],
 "metadata": {
  "kernelspec": {
   "display_name": "Python 3",
   "language": "python",
   "name": "python3"
  },
  "language_info": {
   "codemirror_mode": {
    "name": "ipython",
    "version": 3
   },
   "file_extension": ".py",
   "mimetype": "text/x-python",
   "name": "python",
   "nbconvert_exporter": "python",
   "pygments_lexer": "ipython3",
   "version": "3.7.6"
  },
  "varInspector": {
   "cols": {
    "lenName": 16,
    "lenType": 16,
    "lenVar": 40
   },
   "kernels_config": {
    "python": {
     "delete_cmd_postfix": "",
     "delete_cmd_prefix": "del ",
     "library": "var_list.py",
     "varRefreshCmd": "print(var_dic_list())"
    },
    "r": {
     "delete_cmd_postfix": ") ",
     "delete_cmd_prefix": "rm(",
     "library": "var_list.r",
     "varRefreshCmd": "cat(var_dic_list()) "
    }
   },
   "types_to_exclude": [
    "module",
    "function",
    "builtin_function_or_method",
    "instance",
    "_Feature"
   ],
   "window_display": false
  }
 },
 "nbformat": 4,
 "nbformat_minor": 2
}

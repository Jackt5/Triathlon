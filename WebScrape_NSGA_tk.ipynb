{
 "cells": [
  {
   "cell_type": "code",
   "execution_count": 1,
   "metadata": {},
   "outputs": [],
   "source": [
    "import pandas as pd\n",
    "from splinter import Browser\n",
    "from bs4 import BeautifulSoup as bs"
   ]
  },
  {
   "cell_type": "code",
   "execution_count": 2,
   "metadata": {},
   "outputs": [],
   "source": [
    "executable_path = {'executable_path': '/usr/local/bin/chromedriver'}\n",
    "browser = Browser('chrome', **executable_path, headless=False)"
   ]
  },
  {
   "cell_type": "code",
   "execution_count": 3,
   "metadata": {},
   "outputs": [],
   "source": [
    "url = 'https://nsga-results.fusesport.com/drawindividual.asp?id=341961&seasonid=485'"
   ]
  },
  {
   "cell_type": "code",
   "execution_count": 4,
   "metadata": {},
   "outputs": [
    {
     "data": {
      "text/plain": [
       "[  Unnamed: 0            Name State             S            T1             B  \\\n",
       " 0        1st    REMBAC, Ross    AZ  00:06:29.000  00:04:58.000  00:35:22.000   \n",
       " 1        2nd  GALLARDO, Paul    NM  00:08:07.000  00:03:44.000  00:38:18.000   \n",
       " 2        3rd      KASSA, JOE    NM  00:09:39.000  00:04:28.000  00:38:55.000   \n",
       " 3        4th      HOBBS, Bob    KY  00:11:35.000  00:04:06.000  00:39:53.000   \n",
       " 4        5th    WYATT, James    TX  00:07:23.000  00:05:32.000  00:42:55.000   \n",
       " 5        6th   DEMERLY, Mike    IN  00:12:39.000  00:06:35.000  00:43:18.000   \n",
       " 6        7th   MASON, Andrew    NM  00:13:14.000  00:06:04.000  00:48:00.000   \n",
       " 7          0      LINK, Dave    TX             -             -             -   \n",
       " \n",
       "              T2             R          Time  \n",
       " 0  00:00:47.000  00:23:43.000  01:11:19.000  \n",
       " 1  00:01:09.000  00:20:24.000  01:11:42.000  \n",
       " 2  00:00:52.000  00:24:36.000  01:18:30.000  \n",
       " 3  00:00:46.000  00:24:30.000  01:20:50.000  \n",
       " 4  00:01:21.000  00:27:36.000  01:24:47.000  \n",
       " 5  00:00:55.000  00:28:54.000  01:32:21.000  \n",
       " 6  00:00:43.000  00:25:31.000  01:33:32.000  \n",
       " 7             -             -             -  ]"
      ]
     },
     "execution_count": 4,
     "metadata": {},
     "output_type": "execute_result"
    }
   ],
   "source": [
    "tables = pd.read_html(url)\n",
    "tables"
   ]
  },
  {
   "cell_type": "code",
   "execution_count": 5,
   "metadata": {},
   "outputs": [],
   "source": [
    "url2 = 'https://nsga-results.fusesport.com/competitions.asp?compID=341959&id=485'\n",
    "browser.visit(url2)"
   ]
  },
  {
   "cell_type": "code",
   "execution_count": 7,
   "metadata": {},
   "outputs": [],
   "source": [
    "html = browser.html\n",
    "soup = bs(html, 'html.parser')"
   ]
  },
  {
   "cell_type": "code",
   "execution_count": 19,
   "metadata": {},
   "outputs": [
    {
     "data": {
      "text/plain": [
       "[<a href=\"/mlink.asp?id=1713&amp;menu=15206\">Results</a>,\n",
       " <a class=\"back button\" href=\"?id=485\">Back</a>,\n",
       " <a href=\"drawindividual.asp?id=341961&amp;seasonid=485\">Results</a>,\n",
       " <a href=\"drawindividual.asp?id=341962&amp;seasonid=485\">Results</a>,\n",
       " <a href=\"drawindividual.asp?id=341963&amp;seasonid=485\">Results</a>,\n",
       " <a href=\"drawindividual.asp?id=341964&amp;seasonid=485\">Results</a>,\n",
       " <a href=\"drawindividual.asp?id=341965&amp;seasonid=485\">Results</a>,\n",
       " <a href=\"drawindividual.asp?id=341966&amp;seasonid=485\">Results</a>,\n",
       " <a href=\"drawindividual.asp?id=341967&amp;seasonid=485\">Results</a>,\n",
       " <a href=\"drawindividual.asp?id=341968&amp;seasonid=485\">Results</a>,\n",
       " <a href=\"drawindividual.asp?id=341973&amp;seasonid=485\">Results</a>,\n",
       " <a href=\"drawindividual.asp?id=341974&amp;seasonid=485\">Results</a>,\n",
       " <a href=\"drawindividual.asp?id=341975&amp;seasonid=485\">Results</a>,\n",
       " <a href=\"drawindividual.asp?id=341976&amp;seasonid=485\">Results</a>,\n",
       " <a href=\"drawindividual.asp?id=341977&amp;seasonid=485\">Results</a>,\n",
       " <a href=\"drawindividual.asp?id=341978&amp;seasonid=485\">Results</a>,\n",
       " <a href=\"drawindividual.asp?id=341979&amp;seasonid=485\">Results</a>,\n",
       " <a href=\"http://nsga.com\" target=\"_blank\"><img alt=\"NSGA Initials\" src=\"/_uploads/img/10_511523l.JPG\" style=\"\"/></a>,\n",
       " <a class=\"poweredBy\" href=\"http://www.fusesport.com\">\n",
       " <img alt=\"powered by fusesport\" src=\"/poweredBy/fusesport/white.png\"/>\n",
       " </a>]"
      ]
     },
     "execution_count": 19,
     "metadata": {},
     "output_type": "execute_result"
    }
   ],
   "source": [
    "anchors = soup.find_all('a')\n",
    "anchors"
   ]
  },
  {
   "cell_type": "code",
   "execution_count": 26,
   "metadata": {},
   "outputs": [
    {
     "data": {
      "text/plain": [
       "'/mlink.asp?id=1713&menu=15206'"
      ]
     },
     "execution_count": 26,
     "metadata": {},
     "output_type": "execute_result"
    }
   ],
   "source": [
    "anchors[0]['href']"
   ]
  },
  {
   "cell_type": "code",
   "execution_count": 31,
   "metadata": {},
   "outputs": [
    {
     "name": "stdout",
     "output_type": "stream",
     "text": [
      "['/mlink.asp?id=1713&menu=15206', '?id=485', 'drawindividual.asp?id=341961&seasonid=485', 'drawindividual.asp?id=341962&seasonid=485', 'drawindividual.asp?id=341963&seasonid=485', 'drawindividual.asp?id=341964&seasonid=485', 'drawindividual.asp?id=341965&seasonid=485', 'drawindividual.asp?id=341966&seasonid=485', 'drawindividual.asp?id=341967&seasonid=485', 'drawindividual.asp?id=341968&seasonid=485', 'drawindividual.asp?id=341973&seasonid=485', 'drawindividual.asp?id=341974&seasonid=485', 'drawindividual.asp?id=341975&seasonid=485', 'drawindividual.asp?id=341976&seasonid=485', 'drawindividual.asp?id=341977&seasonid=485', 'drawindividual.asp?id=341978&seasonid=485', 'drawindividual.asp?id=341979&seasonid=485', 'http://nsga.com', 'http://www.fusesport.com']\n"
     ]
    }
   ],
   "source": [
    "link_list = []\n",
    "for anchor in anchors: \n",
    "    links = anchor['href']\n",
    "    link_list.append(links)\n",
    "\n",
    "print(link_list)"
   ]
  },
  {
   "cell_type": "code",
   "execution_count": 32,
   "metadata": {},
   "outputs": [
    {
     "data": {
      "text/plain": [
       "'drawindividual.asp?id=341961&seasonid=485'"
      ]
     },
     "execution_count": 32,
     "metadata": {},
     "output_type": "execute_result"
    }
   ],
   "source": [
    "link_list[2]"
   ]
  },
  {
   "cell_type": "code",
   "execution_count": 37,
   "metadata": {},
   "outputs": [],
   "source": [
    "data_url_list = ['https://nsga-results.fusesport.com/'+ link for link in link_list]"
   ]
  },
  {
   "cell_type": "code",
   "execution_count": 38,
   "metadata": {},
   "outputs": [
    {
     "data": {
      "text/plain": [
       "['https://nsga-results.fusesport.com//mlink.asp?id=1713&menu=15206',\n",
       " 'https://nsga-results.fusesport.com/?id=485',\n",
       " 'https://nsga-results.fusesport.com/drawindividual.asp?id=341961&seasonid=485',\n",
       " 'https://nsga-results.fusesport.com/drawindividual.asp?id=341962&seasonid=485',\n",
       " 'https://nsga-results.fusesport.com/drawindividual.asp?id=341963&seasonid=485',\n",
       " 'https://nsga-results.fusesport.com/drawindividual.asp?id=341964&seasonid=485',\n",
       " 'https://nsga-results.fusesport.com/drawindividual.asp?id=341965&seasonid=485',\n",
       " 'https://nsga-results.fusesport.com/drawindividual.asp?id=341966&seasonid=485',\n",
       " 'https://nsga-results.fusesport.com/drawindividual.asp?id=341967&seasonid=485',\n",
       " 'https://nsga-results.fusesport.com/drawindividual.asp?id=341968&seasonid=485',\n",
       " 'https://nsga-results.fusesport.com/drawindividual.asp?id=341973&seasonid=485',\n",
       " 'https://nsga-results.fusesport.com/drawindividual.asp?id=341974&seasonid=485',\n",
       " 'https://nsga-results.fusesport.com/drawindividual.asp?id=341975&seasonid=485',\n",
       " 'https://nsga-results.fusesport.com/drawindividual.asp?id=341976&seasonid=485',\n",
       " 'https://nsga-results.fusesport.com/drawindividual.asp?id=341977&seasonid=485',\n",
       " 'https://nsga-results.fusesport.com/drawindividual.asp?id=341978&seasonid=485',\n",
       " 'https://nsga-results.fusesport.com/drawindividual.asp?id=341979&seasonid=485',\n",
       " 'https://nsga-results.fusesport.com/http://nsga.com',\n",
       " 'https://nsga-results.fusesport.com/http://www.fusesport.com']"
      ]
     },
     "execution_count": 38,
     "metadata": {},
     "output_type": "execute_result"
    }
   ],
   "source": [
    "data_url_list"
   ]
  },
  {
   "cell_type": "code",
   "execution_count": 39,
   "metadata": {},
   "outputs": [
    {
     "ename": "ValueError",
     "evalue": "No tables found",
     "output_type": "error",
     "traceback": [
      "\u001b[0;31m---------------------------------------------------------------------------\u001b[0m",
      "\u001b[0;31mValueError\u001b[0m                                Traceback (most recent call last)",
      "\u001b[0;32m<ipython-input-39-462e8100e4cf>\u001b[0m in \u001b[0;36m<module>\u001b[0;34m\u001b[0m\n\u001b[1;32m      1\u001b[0m \u001b[0mtables\u001b[0m \u001b[0;34m=\u001b[0m \u001b[0;34m[\u001b[0m\u001b[0;34m]\u001b[0m\u001b[0;34m\u001b[0m\u001b[0;34m\u001b[0m\u001b[0m\n\u001b[1;32m      2\u001b[0m \u001b[0;32mfor\u001b[0m \u001b[0murl\u001b[0m \u001b[0;32min\u001b[0m \u001b[0mdata_url_list\u001b[0m\u001b[0;34m:\u001b[0m\u001b[0;34m\u001b[0m\u001b[0;34m\u001b[0m\u001b[0m\n\u001b[0;32m----> 3\u001b[0;31m     \u001b[0mtable\u001b[0m \u001b[0;34m=\u001b[0m \u001b[0mpd\u001b[0m\u001b[0;34m.\u001b[0m\u001b[0mread_html\u001b[0m\u001b[0;34m(\u001b[0m\u001b[0murl\u001b[0m\u001b[0;34m)\u001b[0m\u001b[0;34m\u001b[0m\u001b[0;34m\u001b[0m\u001b[0m\n\u001b[0m\u001b[1;32m      4\u001b[0m     \u001b[0mtables\u001b[0m\u001b[0;34m.\u001b[0m\u001b[0mappend\u001b[0m\u001b[0;34m(\u001b[0m\u001b[0mtable\u001b[0m\u001b[0;34m)\u001b[0m\u001b[0;34m\u001b[0m\u001b[0;34m\u001b[0m\u001b[0m\n",
      "\u001b[0;32m~/opt/anaconda3/lib/python3.7/site-packages/pandas/io/html.py\u001b[0m in \u001b[0;36mread_html\u001b[0;34m(io, match, flavor, header, index_col, skiprows, attrs, parse_dates, thousands, encoding, decimal, converters, na_values, keep_default_na, displayed_only)\u001b[0m\n\u001b[1;32m   1098\u001b[0m         \u001b[0mna_values\u001b[0m\u001b[0;34m=\u001b[0m\u001b[0mna_values\u001b[0m\u001b[0;34m,\u001b[0m\u001b[0;34m\u001b[0m\u001b[0;34m\u001b[0m\u001b[0m\n\u001b[1;32m   1099\u001b[0m         \u001b[0mkeep_default_na\u001b[0m\u001b[0;34m=\u001b[0m\u001b[0mkeep_default_na\u001b[0m\u001b[0;34m,\u001b[0m\u001b[0;34m\u001b[0m\u001b[0;34m\u001b[0m\u001b[0m\n\u001b[0;32m-> 1100\u001b[0;31m         \u001b[0mdisplayed_only\u001b[0m\u001b[0;34m=\u001b[0m\u001b[0mdisplayed_only\u001b[0m\u001b[0;34m,\u001b[0m\u001b[0;34m\u001b[0m\u001b[0;34m\u001b[0m\u001b[0m\n\u001b[0m\u001b[1;32m   1101\u001b[0m     )\n",
      "\u001b[0;32m~/opt/anaconda3/lib/python3.7/site-packages/pandas/io/html.py\u001b[0m in \u001b[0;36m_parse\u001b[0;34m(flavor, io, match, attrs, encoding, displayed_only, **kwargs)\u001b[0m\n\u001b[1;32m    913\u001b[0m             \u001b[0;32mbreak\u001b[0m\u001b[0;34m\u001b[0m\u001b[0;34m\u001b[0m\u001b[0m\n\u001b[1;32m    914\u001b[0m     \u001b[0;32melse\u001b[0m\u001b[0;34m:\u001b[0m\u001b[0;34m\u001b[0m\u001b[0;34m\u001b[0m\u001b[0m\n\u001b[0;32m--> 915\u001b[0;31m         \u001b[0;32mraise\u001b[0m \u001b[0mretained\u001b[0m\u001b[0;34m\u001b[0m\u001b[0;34m\u001b[0m\u001b[0m\n\u001b[0m\u001b[1;32m    916\u001b[0m \u001b[0;34m\u001b[0m\u001b[0m\n\u001b[1;32m    917\u001b[0m     \u001b[0mret\u001b[0m \u001b[0;34m=\u001b[0m \u001b[0;34m[\u001b[0m\u001b[0;34m]\u001b[0m\u001b[0;34m\u001b[0m\u001b[0;34m\u001b[0m\u001b[0m\n",
      "\u001b[0;32m~/opt/anaconda3/lib/python3.7/site-packages/pandas/io/html.py\u001b[0m in \u001b[0;36m_parse\u001b[0;34m(flavor, io, match, attrs, encoding, displayed_only, **kwargs)\u001b[0m\n\u001b[1;32m    893\u001b[0m \u001b[0;34m\u001b[0m\u001b[0m\n\u001b[1;32m    894\u001b[0m         \u001b[0;32mtry\u001b[0m\u001b[0;34m:\u001b[0m\u001b[0;34m\u001b[0m\u001b[0;34m\u001b[0m\u001b[0m\n\u001b[0;32m--> 895\u001b[0;31m             \u001b[0mtables\u001b[0m \u001b[0;34m=\u001b[0m \u001b[0mp\u001b[0m\u001b[0;34m.\u001b[0m\u001b[0mparse_tables\u001b[0m\u001b[0;34m(\u001b[0m\u001b[0;34m)\u001b[0m\u001b[0;34m\u001b[0m\u001b[0;34m\u001b[0m\u001b[0m\n\u001b[0m\u001b[1;32m    896\u001b[0m         \u001b[0;32mexcept\u001b[0m \u001b[0mValueError\u001b[0m \u001b[0;32mas\u001b[0m \u001b[0mcaught\u001b[0m\u001b[0;34m:\u001b[0m\u001b[0;34m\u001b[0m\u001b[0;34m\u001b[0m\u001b[0m\n\u001b[1;32m    897\u001b[0m             \u001b[0;31m# if `io` is an io-like object, check if it's seekable\u001b[0m\u001b[0;34m\u001b[0m\u001b[0;34m\u001b[0m\u001b[0;34m\u001b[0m\u001b[0m\n",
      "\u001b[0;32m~/opt/anaconda3/lib/python3.7/site-packages/pandas/io/html.py\u001b[0m in \u001b[0;36mparse_tables\u001b[0;34m(self)\u001b[0m\n\u001b[1;32m    211\u001b[0m         \u001b[0mlist\u001b[0m \u001b[0mof\u001b[0m \u001b[0mparsed\u001b[0m \u001b[0;34m(\u001b[0m\u001b[0mheader\u001b[0m\u001b[0;34m,\u001b[0m \u001b[0mbody\u001b[0m\u001b[0;34m,\u001b[0m \u001b[0mfooter\u001b[0m\u001b[0;34m)\u001b[0m \u001b[0mtuples\u001b[0m \u001b[0;32mfrom\u001b[0m \u001b[0mtables\u001b[0m\u001b[0;34m.\u001b[0m\u001b[0;34m\u001b[0m\u001b[0;34m\u001b[0m\u001b[0m\n\u001b[1;32m    212\u001b[0m         \"\"\"\n\u001b[0;32m--> 213\u001b[0;31m         \u001b[0mtables\u001b[0m \u001b[0;34m=\u001b[0m \u001b[0mself\u001b[0m\u001b[0;34m.\u001b[0m\u001b[0m_parse_tables\u001b[0m\u001b[0;34m(\u001b[0m\u001b[0mself\u001b[0m\u001b[0;34m.\u001b[0m\u001b[0m_build_doc\u001b[0m\u001b[0;34m(\u001b[0m\u001b[0;34m)\u001b[0m\u001b[0;34m,\u001b[0m \u001b[0mself\u001b[0m\u001b[0;34m.\u001b[0m\u001b[0mmatch\u001b[0m\u001b[0;34m,\u001b[0m \u001b[0mself\u001b[0m\u001b[0;34m.\u001b[0m\u001b[0mattrs\u001b[0m\u001b[0;34m)\u001b[0m\u001b[0;34m\u001b[0m\u001b[0;34m\u001b[0m\u001b[0m\n\u001b[0m\u001b[1;32m    214\u001b[0m         \u001b[0;32mreturn\u001b[0m \u001b[0;34m(\u001b[0m\u001b[0mself\u001b[0m\u001b[0;34m.\u001b[0m\u001b[0m_parse_thead_tbody_tfoot\u001b[0m\u001b[0;34m(\u001b[0m\u001b[0mtable\u001b[0m\u001b[0;34m)\u001b[0m \u001b[0;32mfor\u001b[0m \u001b[0mtable\u001b[0m \u001b[0;32min\u001b[0m \u001b[0mtables\u001b[0m\u001b[0;34m)\u001b[0m\u001b[0;34m\u001b[0m\u001b[0;34m\u001b[0m\u001b[0m\n\u001b[1;32m    215\u001b[0m \u001b[0;34m\u001b[0m\u001b[0m\n",
      "\u001b[0;32m~/opt/anaconda3/lib/python3.7/site-packages/pandas/io/html.py\u001b[0m in \u001b[0;36m_parse_tables\u001b[0;34m(self, doc, match, attrs)\u001b[0m\n\u001b[1;32m    543\u001b[0m \u001b[0;34m\u001b[0m\u001b[0m\n\u001b[1;32m    544\u001b[0m         \u001b[0;32mif\u001b[0m \u001b[0;32mnot\u001b[0m \u001b[0mtables\u001b[0m\u001b[0;34m:\u001b[0m\u001b[0;34m\u001b[0m\u001b[0;34m\u001b[0m\u001b[0m\n\u001b[0;32m--> 545\u001b[0;31m             \u001b[0;32mraise\u001b[0m \u001b[0mValueError\u001b[0m\u001b[0;34m(\u001b[0m\u001b[0;34m\"No tables found\"\u001b[0m\u001b[0;34m)\u001b[0m\u001b[0;34m\u001b[0m\u001b[0;34m\u001b[0m\u001b[0m\n\u001b[0m\u001b[1;32m    546\u001b[0m \u001b[0;34m\u001b[0m\u001b[0m\n\u001b[1;32m    547\u001b[0m         \u001b[0mresult\u001b[0m \u001b[0;34m=\u001b[0m \u001b[0;34m[\u001b[0m\u001b[0;34m]\u001b[0m\u001b[0;34m\u001b[0m\u001b[0;34m\u001b[0m\u001b[0m\n",
      "\u001b[0;31mValueError\u001b[0m: No tables found"
     ]
    }
   ],
   "source": [
    "tables = []\n",
    "for url in data_url_list: \n",
    "    table = pd.read_html(url)\n",
    "    tables.append(table)"
   ]
  },
  {
   "cell_type": "code",
   "execution_count": null,
   "metadata": {},
   "outputs": [],
   "source": []
  }
 ],
 "metadata": {
  "kernelspec": {
   "display_name": "Python 3",
   "language": "python",
   "name": "python3"
  },
  "language_info": {
   "codemirror_mode": {
    "name": "ipython",
    "version": 3
   },
   "file_extension": ".py",
   "mimetype": "text/x-python",
   "name": "python",
   "nbconvert_exporter": "python",
   "pygments_lexer": "ipython3",
   "version": "3.7.6"
  }
 },
 "nbformat": 4,
 "nbformat_minor": 4
}
